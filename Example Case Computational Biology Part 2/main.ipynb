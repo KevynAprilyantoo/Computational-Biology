{
 "cells": [
  {
   "cell_type": "code",
   "execution_count": 1,
   "metadata": {},
   "outputs": [],
   "source": [
    "from Bio.Seq import Seq"
   ]
  },
  {
   "cell_type": "code",
   "execution_count": 2,
   "metadata": {},
   "outputs": [],
   "source": [
    "seq_a = Seq('ATGCCGCAT')\n",
    "seq_b = Seq('ATCGCGGCA')\n",
    "seq_c = Seq('ATCGGC')\n"
   ]
  },
  {
   "cell_type": "code",
   "execution_count": 3,
   "metadata": {},
   "outputs": [
    {
     "name": "stdout",
     "output_type": "stream",
     "text": [
      "ATGC-CG-CAT\n",
      "|| | || || \n",
      "AT-CGCGGCA-\n",
      "  Score=7\n",
      "\n",
      "AT-GCCG-CAT\n",
      "|| | || || \n",
      "ATCG-CGGCA-\n",
      "  Score=7\n",
      "\n",
      "AT-GCCG-CAT\n",
      "|| || | || \n",
      "ATCGC-GGCA-\n",
      "  Score=7\n",
      "\n",
      "ATGC-C-GCAT\n",
      "|| | | ||| \n",
      "AT-CGCGGCA-\n",
      "  Score=7\n",
      "\n",
      "AT-GCC-GCAT\n",
      "|| | | ||| \n",
      "ATCG-CGGCA-\n",
      "  Score=7\n",
      "\n",
      "AT-GCC-GCAT\n",
      "|| ||  ||| \n",
      "ATCGC-GGCA-\n",
      "  Score=7\n",
      "\n",
      "AT-GCCGCAT\n",
      "|| ||.||| \n",
      "ATCGCGGCA-\n",
      "  Score=7\n",
      "\n",
      "-----------------------------------------------------------\n",
      "1 ATGCCG-C\n",
      "  ||  || |\n",
      "1 AT--CGGC\n",
      "  Score=5\n",
      "\n",
      "1 ATGCCG-C\n",
      "  || | | |\n",
      "1 AT-C-GGC\n",
      "  Score=5\n",
      "\n",
      "1 ATGCC-GC\n",
      "  ||  | ||\n",
      "1 AT--CGGC\n",
      "  Score=5\n",
      "\n",
      "1 ATGCC-GC\n",
      "  || |  ||\n",
      "1 AT-C-GGC\n",
      "  Score=5\n",
      "\n",
      "1 ATGCCGC\n",
      "  || |.||\n",
      "1 AT-CGGC\n",
      "  Score=5\n",
      "\n",
      "1 AT-GCCGC\n",
      "  || |  ||\n",
      "1 ATCG--GC\n",
      "  Score=5\n",
      "\n"
     ]
    },
    {
     "name": "stderr",
     "output_type": "stream",
     "text": [
      "c:\\Users\\admin\\AppData\\Local\\Programs\\Python\\Python310\\lib\\site-packages\\Bio\\pairwise2.py:278: BiopythonDeprecationWarning: Bio.pairwise2 has been deprecated, and we intend to remove it in a future release of Biopython. As an alternative, please consider using Bio.Align.PairwiseAligner as a replacement, and contact the Biopython developers if you still need the Bio.pairwise2 module.\n",
      "  warnings.warn(\n"
     ]
    }
   ],
   "source": [
    "from Bio import pairwise2\n",
    "from Bio.pairwise2 import format_alignment\n",
    "\n",
    "# alignment = pairwise2.align.globalxx(seq_a, seq_b, score_only = True)\n",
    "# print(alignment)\n",
    "\n",
    "alignment_global = pairwise2.align.globalxx(seq_a, seq_b)\n",
    "for i in alignment_global:\n",
    "    print(format_alignment(*i))\n",
    "\n",
    "print(\"-----------------------------------------------------------\")\n",
    "\n",
    "alignment_local = pairwise2.align.localxx(seq_a, seq_c)\n",
    "for i in alignment_local:\n",
    "    print(format_alignment(*i))"
   ]
  },
  {
   "cell_type": "code",
   "execution_count": 4,
   "metadata": {},
   "outputs": [],
   "source": [
    "def hemming_distance(seqA, seqB):\n",
    "    count = 0\n",
    "    for i,j in zip(seqA, seqB):\n",
    "        if(i!=j):\n",
    "            count+=1\n",
    "    return count\n"
   ]
  },
  {
   "cell_type": "code",
   "execution_count": 5,
   "metadata": {},
   "outputs": [
    {
     "data": {
      "text/plain": [
       "5"
      ]
     },
     "execution_count": 5,
     "metadata": {},
     "output_type": "execute_result"
    }
   ],
   "source": [
    "hemming_distance(seq_a, seq_b)"
   ]
  },
  {
   "cell_type": "code",
   "execution_count": 6,
   "metadata": {},
   "outputs": [
    {
     "name": "stdout",
     "output_type": "stream",
     "text": [
      "3\n"
     ]
    }
   ],
   "source": [
    "import Levenshtein\n",
    "levenshtein_distance = Levenshtein.distance(seq_a, seq_b)\n",
    "print(levenshtein_distance)"
   ]
  },
  {
   "cell_type": "code",
   "execution_count": 9,
   "metadata": {},
   "outputs": [],
   "source": [
    "def plot(seqA, seqB):\n",
    "    print(' |' + seqB)\n",
    "    print('-'*(len(seqB)+3))\n",
    "    for i in seqA:\n",
    "        print(i+'|', end = '')\n",
    "        for j in seqB:\n",
    "            if i == j:\n",
    "                print('#',end='')\n",
    "            else:\n",
    "                print('.',end='')\n",
    "        print('')"
   ]
  },
  {
   "cell_type": "code",
   "execution_count": 10,
   "metadata": {},
   "outputs": [
    {
     "name": "stdout",
     "output_type": "stream",
     "text": [
      " |ATCGCGGCA\n",
      "------------\n",
      "A|#.......#\n",
      "T|.#.......\n",
      "G|...#.##..\n",
      "C|..#.#..#.\n",
      "C|..#.#..#.\n",
      "G|...#.##..\n",
      "C|..#.#..#.\n",
      "A|#.......#\n",
      "T|.#.......\n"
     ]
    }
   ],
   "source": [
    "plot(seq_a, seq_b)"
   ]
  },
  {
   "cell_type": "code",
   "execution_count": null,
   "metadata": {},
   "outputs": [],
   "source": []
  }
 ],
 "metadata": {
  "kernelspec": {
   "display_name": "Python 3",
   "language": "python",
   "name": "python3"
  },
  "language_info": {
   "codemirror_mode": {
    "name": "ipython",
    "version": 3
   },
   "file_extension": ".py",
   "mimetype": "text/x-python",
   "name": "python",
   "nbconvert_exporter": "python",
   "pygments_lexer": "ipython3",
   "version": "3.10.9"
  }
 },
 "nbformat": 4,
 "nbformat_minor": 2
}
