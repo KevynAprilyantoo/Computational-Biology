{
 "cells": [
  {
   "cell_type": "code",
   "execution_count": 11,
   "metadata": {},
   "outputs": [],
   "source": [
    "from Bio.Seq import Seq"
   ]
  },
  {
   "cell_type": "code",
   "execution_count": 12,
   "metadata": {},
   "outputs": [],
   "source": [
    "seq_a = Seq('AAGCTTAGCTAGAGCAGTCAGCTAGCTAGCT')\n",
    "seq_b = Seq('TCTGAAGCTAGCTAGTGCATAGCTAGCTAGC')"
   ]
  },
  {
   "cell_type": "code",
   "execution_count": 13,
   "metadata": {},
   "outputs": [
    {
     "name": "stdout",
     "output_type": "stream",
     "text": [
      "1 AAGCTTAGCTAGA-GCAGTCAGCTAGCTAGC\n",
      "  |||| |||||||  ||| | |||||||||||\n",
      "5 AAGC-TAGCTAG-TGCA-T-AGCTAGCTAGC\n",
      "  Score=26\n",
      "\n",
      "1 AAGCTTAGCTAGA-GCAGTCAGCTAGCTAGC\n",
      "  ||||| ||||||  ||| | |||||||||||\n",
      "5 AAGCT-AGCTAG-TGCA-T-AGCTAGCTAGC\n",
      "  Score=26\n",
      "\n",
      "1 AAGCTTAGCTAGAGCAGTCAGCTAGCTAGC\n",
      "  |||| |||||||.||| | |||||||||||\n",
      "5 AAGC-TAGCTAGTGCA-T-AGCTAGCTAGC\n",
      "  Score=26\n",
      "\n",
      "1 AAGCTTAGCTAGAGCAGTCAGCTAGCTAGC\n",
      "  ||||| ||||||.||| | |||||||||||\n",
      "5 AAGCT-AGCTAGTGCA-T-AGCTAGCTAGC\n",
      "  Score=26\n",
      "\n"
     ]
    }
   ],
   "source": [
    "from Bio import pairwise2\n",
    "from Bio.pairwise2 import format_alignment\n",
    "\n",
    "# alignment = pairwise2.align.globalxx(seq_a, seq_b, score_only = True)\n",
    "# print(alignment)\n",
    "\n",
    "alignment_local = pairwise2.align.localxx(seq_a, seq_b)\n",
    "for i in alignment_local:\n",
    "    print(format_alignment(*i))"
   ]
  },
  {
   "cell_type": "code",
   "execution_count": 19,
   "metadata": {},
   "outputs": [
    {
     "data": {
      "text/plain": [
       "30"
      ]
     },
     "execution_count": 19,
     "metadata": {},
     "output_type": "execute_result"
    }
   ],
   "source": [
    "def hemming_distance(seqA, seqB):\n",
    "    count = 0\n",
    "    for i,j in zip(seqA, seqB):\n",
    "        if(i!=j):\n",
    "            count+=1\n",
    "    return count\n",
    "\n",
    "hemming_distance(seq_a, seq_b)\n"
   ]
  },
  {
   "cell_type": "code",
   "execution_count": 16,
   "metadata": {},
   "outputs": [
    {
     "name": "stdout",
     "output_type": "stream",
     "text": [
      "9\n"
     ]
    }
   ],
   "source": [
    "import Levenshtein\n",
    "levenshtein_distance = Levenshtein.distance(seq_a, seq_b)\n",
    "print(levenshtein_distance)"
   ]
  },
  {
   "cell_type": "code",
   "execution_count": 17,
   "metadata": {},
   "outputs": [],
   "source": [
    "def plot(seqA, seqB):\n",
    "    print(' |' + seqB)\n",
    "    print('-'*(len(seqB)+3))\n",
    "    for i in seqA:\n",
    "        print(i+'|', end = '')\n",
    "        for j in seqB:\n",
    "            if i == j:\n",
    "                print('#',end='')\n",
    "            else:\n",
    "                print('.',end='')\n",
    "        print('')"
   ]
  },
  {
   "cell_type": "code",
   "execution_count": 18,
   "metadata": {},
   "outputs": [
    {
     "name": "stdout",
     "output_type": "stream",
     "text": [
      " |TCTGAAGCTAGCTAGTGCATAGCTAGCTAGC\n",
      "----------------------------------\n",
      "A|....##...#...#....#.#...#...#..\n",
      "A|....##...#...#....#.#...#...#..\n",
      "G|...#..#...#...#.#....#...#...#.\n",
      "C|.#.....#...#.....#....#...#...#\n",
      "T|#.#.....#...#..#...#...#...#...\n",
      "T|#.#.....#...#..#...#...#...#...\n",
      "A|....##...#...#....#.#...#...#..\n",
      "G|...#..#...#...#.#....#...#...#.\n",
      "C|.#.....#...#.....#....#...#...#\n",
      "T|#.#.....#...#..#...#...#...#...\n",
      "A|....##...#...#....#.#...#...#..\n",
      "G|...#..#...#...#.#....#...#...#.\n",
      "A|....##...#...#....#.#...#...#..\n",
      "G|...#..#...#...#.#....#...#...#.\n",
      "C|.#.....#...#.....#....#...#...#\n",
      "A|....##...#...#....#.#...#...#..\n",
      "G|...#..#...#...#.#....#...#...#.\n",
      "T|#.#.....#...#..#...#...#...#...\n",
      "C|.#.....#...#.....#....#...#...#\n",
      "A|....##...#...#....#.#...#...#..\n",
      "G|...#..#...#...#.#....#...#...#.\n",
      "C|.#.....#...#.....#....#...#...#\n",
      "T|#.#.....#...#..#...#...#...#...\n",
      "A|....##...#...#....#.#...#...#..\n",
      "G|...#..#...#...#.#....#...#...#.\n",
      "C|.#.....#...#.....#....#...#...#\n",
      "T|#.#.....#...#..#...#...#...#...\n",
      "A|....##...#...#....#.#...#...#..\n",
      "G|...#..#...#...#.#....#...#...#.\n",
      "C|.#.....#...#.....#....#...#...#\n",
      "T|#.#.....#...#..#...#...#...#...\n"
     ]
    }
   ],
   "source": [
    "plot(seq_a, seq_b)"
   ]
  },
  {
   "cell_type": "code",
   "execution_count": null,
   "metadata": {},
   "outputs": [],
   "source": []
  }
 ],
 "metadata": {
  "kernelspec": {
   "display_name": "Python 3",
   "language": "python",
   "name": "python3"
  },
  "language_info": {
   "codemirror_mode": {
    "name": "ipython",
    "version": 3
   },
   "file_extension": ".py",
   "mimetype": "text/x-python",
   "name": "python",
   "nbconvert_exporter": "python",
   "pygments_lexer": "ipython3",
   "version": "3.10.9"
  }
 },
 "nbformat": 4,
 "nbformat_minor": 2
}
